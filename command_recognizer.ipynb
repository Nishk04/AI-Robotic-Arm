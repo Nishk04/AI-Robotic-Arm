{
 "cells": [
  {
   "cell_type": "code",
   "execution_count": 1,
   "id": "05883bfb",
   "metadata": {},
   "outputs": [
    {
     "name": "stderr",
     "output_type": "stream",
     "text": [
      "d:\\Python Projects\\AI-Robotic-Arm\\aiim\\Lib\\site-packages\\tqdm\\auto.py:21: TqdmWarning: IProgress not found. Please update jupyter and ipywidgets. See https://ipywidgets.readthedocs.io/en/stable/user_install.html\n",
      "  from .autonotebook import tqdm as notebook_tqdm\n"
     ]
    }
   ],
   "source": [
    "from sentence_transformers import SentenceTransformer\n",
    "import numpy as np\n",
    "import json\n",
    "from pathlib import Path"
   ]
  },
  {
   "cell_type": "code",
   "execution_count": 2,
   "id": "fd0684e1",
   "metadata": {},
   "outputs": [],
   "source": [
    "class EmbeddingIndex:\n",
    "    def __init__(self, model_name=\"sentence-transformers/all-MiniLM-L6-v2\"):\n",
    "        self.model = SentenceTransformer(model_name)\n",
    "        self.texts = []\n",
    "        self.vecs = None  # shape: (N, d)\n",
    "\n",
    "    def add_texts(self, texts):\n",
    "        emb = self.model.encode(texts, batch_size=64, convert_to_numpy=True, normalize_embeddings=True)\n",
    "        if self.vecs is None:\n",
    "            self.vecs = emb\n",
    "        else:\n",
    "            self.vecs = np.vstack([self.vecs, emb])\n",
    "        self.texts.extend(texts)\n",
    "\n",
    "    def save(self, dirpath=\"emb_index\"):\n",
    "        p = Path(dirpath)\n",
    "        p.mkdir(parents=True, exist_ok=True)\n",
    "        np.save(p / \"vectors.npy\", self.vecs)\n",
    "        with open(p / \"texts.json\", \"w\", encoding=\"utf-8\") as f:\n",
    "            json.dump(self.texts, f, ensure_ascii=False, indent=2)\n",
    "\n",
    "    @classmethod\n",
    "    def load(cls, dirpath=\"emb_index\", model_name=\"sentence-transformers/all-MiniLM-L6-v2\"):\n",
    "        idx = cls(model_name)\n",
    "        p = Path(dirpath)\n",
    "        idx.vecs = np.load(p / \"vectors.npy\")\n",
    "        with open(p / \"texts.json\", \"r\", encoding=\"utf-8\") as f:\n",
    "            idx.texts = json.load(f)\n",
    "        return idx\n",
    "\n",
    "    def search(self, query, top_k=1):\n",
    "        q = self.model.encode([query], convert_to_numpy=True, normalize_embeddings=True)[0]\n",
    "        sims = self.vecs @ q\n",
    "        top_idx = np.argpartition(-sims, range(top_k))[:top_k]\n",
    "        top_idx = top_idx[np.argsort(-sims[top_idx])]\n",
    "        return [(self.texts[i], float(sims[i])) for i in top_idx]"
   ]
  },
  {
   "cell_type": "code",
   "execution_count": 3,
   "id": "95b30098",
   "metadata": {},
   "outputs": [
    {
     "name": "stderr",
     "output_type": "stream",
     "text": [
      "d:\\Python Projects\\AI-Robotic-Arm\\aiim\\Lib\\site-packages\\transformers\\tokenization_utils_base.py:1601: FutureWarning: `clean_up_tokenization_spaces` was not set. It will be set to `True` by default. This behavior will be depracted in transformers v4.45, and will be then set to `False` by default. For more details check this issue: https://github.com/huggingface/transformers/issues/31884\n",
      "  warnings.warn(\n"
     ]
    }
   ],
   "source": [
    "# Define your base commands (flexible wording here)\n",
    "docs = [\n",
    "    \"move left\", \"rotate left\", \"turn left\",\n",
    "    \"move right\", \"rotate right\", \"turn right\",\n",
    "    \"move up\", \"lift up\", \"go up\",\n",
    "    \"move down\", \"lower down\", \"go down\",\n",
    "    \"open claw\", \"release\", \"unclamp\",\n",
    "    \"close claw\", \"grab\", \"clamp\"\n",
    "]\n",
    "\n",
    "# Build the index once\n",
    "idx = EmbeddingIndex()\n",
    "idx.add_texts(docs)\n",
    "idx.save()"
   ]
  },
  {
   "cell_type": "code",
   "execution_count": 4,
   "id": "bbe49389",
   "metadata": {},
   "outputs": [],
   "source": [
    "# Function to map recognized text to base actions\n",
    "def interpret_commands(text):\n",
    "    steps = []\n",
    "    parts = [p.strip() for p in text.replace(\"then\", \",\").replace(\"and\", \",\").split(\",\") if p.strip()]\n",
    "    for part in parts:\n",
    "        match, score = idx.search(part, top_k=1)[0]\n",
    "        steps.append(match)\n",
    "    return steps\n",
    "\n",
    "# Function to simulate sending commands to Arduino\n",
    "def execute_steps(steps):\n",
    "    for step in steps:\n",
    "        print(f\"Executing: {step}\")\n",
    "        # Here is where you'd send a serial command to Arduino like:\n",
    "        # arduino.write(step_code(step))\n",
    "        # Example:\n",
    "        # if step in [\"move left\", \"rotate left\", \"turn left\"]:\n",
    "        #     arduino.write(b'L')\n",
    "        # elif step in [\"close claw\", \"grab\", \"clamp\"]:\n",
    "        #     arduino.write(b'C')\n",
    "\n",
    "# Get speech input"
   ]
  },
  {
   "cell_type": "code",
   "execution_count": 5,
   "id": "b3000d71",
   "metadata": {},
   "outputs": [
    {
     "name": "stdout",
     "output_type": "stream",
     "text": [
      "Say your multi-step command...\n",
      "You said: go right\n",
      "Executing: turn right\n"
     ]
    }
   ],
   "source": [
    "import queue\n",
    "import sounddevice as sd\n",
    "import vosk\n",
    "import json\n",
    "\n",
    "# Load offline Vosk model (download from https://alphacephei.com/vosk/models)\n",
    "model = vosk.Model(\"models/vosk-model-small-en-us-0.15\")\n",
    "\n",
    "q = queue.Queue()\n",
    "\n",
    "def callback(indata, frames, time, status):\n",
    "    if status:\n",
    "        print(status, flush=True)\n",
    "    q.put(bytes(indata))\n",
    "\n",
    "# Start streaming from mic\n",
    "print(\"Say your multi-step command...\")\n",
    "with sd.RawInputStream(samplerate=16000, blocksize=8000, dtype='int16',\n",
    "                       channels=1, callback=callback):\n",
    "\n",
    "    rec = vosk.KaldiRecognizer(model, 16000)\n",
    "    recorded_text = \"\"\n",
    "\n",
    "    while True:\n",
    "        data = q.get()\n",
    "        if rec.AcceptWaveform(data):\n",
    "            result = json.loads(rec.Result())\n",
    "            recorded_text = result.get(\"text\", \"\")\n",
    "            break\n",
    "\n",
    "print(f\"You said: {recorded_text}\")\n",
    "\n",
    "if recorded_text.strip():\n",
    "    steps = interpret_commands(recorded_text)\n",
    "    execute_steps(steps)\n",
    "else:\n",
    "    print(\"Could not understand audio\")\n"
   ]
  },
  {
   "cell_type": "code",
   "execution_count": null,
   "id": "f815b6de",
   "metadata": {},
   "outputs": [],
   "source": []
  }
 ],
 "metadata": {
  "kernelspec": {
   "display_name": "aiim",
   "language": "python",
   "name": "python3"
  },
  "language_info": {
   "codemirror_mode": {
    "name": "ipython",
    "version": 3
   },
   "file_extension": ".py",
   "mimetype": "text/x-python",
   "name": "python",
   "nbconvert_exporter": "python",
   "pygments_lexer": "ipython3",
   "version": "3.11.4"
  }
 },
 "nbformat": 4,
 "nbformat_minor": 5
}
